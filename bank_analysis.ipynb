{
  "nbformat": 4,
  "nbformat_minor": 0,
  "metadata": {
    "colab": {
      "provenance": [],
      "private_outputs": true,
      "authorship_tag": "ABX9TyMIxrusL8KUenHbFuvlQ4DV",
      "include_colab_link": true
    },
    "kernelspec": {
      "name": "python3",
      "display_name": "Python 3"
    },
    "language_info": {
      "name": "python"
    },
    "accelerator": "TPU"
  },
  "cells": [
    {
      "cell_type": "markdown",
      "metadata": {
        "id": "view-in-github",
        "colab_type": "text"
      },
      "source": [
        "<a href=\"https://colab.research.google.com/github/Viratvenom/AMIT-KUMAR-SINGH/blob/main/bank_analysis.ipynb\" target=\"_parent\"><img src=\"https://colab.research.google.com/assets/colab-badge.svg\" alt=\"Open In Colab\"/></a>"
      ]
    },
    {
      "cell_type": "markdown",
      "source": [
        "**Project Name -**\n",
        "**Bank Loan Case Study Prediction**\n",
        "**Project Type** **-(data analysis)**\n",
        "\n",
        "**Project by -** **AMIT KUMAR SINGH**\n",
        "\n",
        "**Data analyst Trainee at trainity**"
      ],
      "metadata": {
        "id": "kKU7jJ-nF0-v"
      }
    },
    {
      "cell_type": "markdown",
      "source": [
        "**The loan providing companies find it hard to give loans to the people due to their insufficient or non-existent credit history. Because of that, some consumers use it as their advantage by becoming a defaulter. The data given below contains the information about the loan application at the time of applying for the loan. It con-tains two types of scenarios:**\n",
        "\n",
        "* **The company wants to understand the driving factors (or driver variables) behind loan default, i.e. the variables which are strong indicators of default. The company can utilize this knowledge for its portfolio and risk assessmen**"
      ],
      "metadata": {
        "id": "8Z8qckZZGW1-"
      }
    },
    {
      "cell_type": "markdown",
      "source": [
        "**GitHub Link -**"
      ],
      "metadata": {
        "id": "1MkgvfjtGvt4"
      }
    },
    {
      "cell_type": "markdown",
      "source": [
        "**Problem Statement :**\n",
        "**You are required to provide a detailed report for the below data record mentioning the answer to the questions that follows:**\n",
        "\n",
        "* **Present the overall approach of the analysis.** Mention the problem statement and the analysis approach briefly\n",
        "* Indentify the missing data and use appropriate method to deal with it. (Remove columns/or replace it with an appropriate value)\n",
        "**Hint:** Note that in EDA, since it is not necessary to replace the missing value, but if you have to replace the missing value, what should be the approach. Clearly mention the approach.\n",
        "Identify if there are outliers in the dataset. Also, mention why do you think it is an outlier. Again, remember that for this exercise, it is not necessary to remove any data points.\n",
        "* **Identify if there is data imbalance in the data.** Find the ratio of data imbalance.\n",
        "Hint: Since there are a lot of columns, you can run your analysis in loops for the appropriate columns and find the insights.\n",
        "* Explain the results of univariate, segmented univariate, bivariate analysis, etc. in business terms.\n",
        "* Find the top 10 correlation for the Client with payment difficulties and all other cases (Target variable). Note that you have to find the top correlation by segmenting the data frame w.r.t to the target variable and then find the top correlation for each of the segmented data and find if any insight is there. Say, there are 5+1(target) variables in a dataset: Var1, Var2, Var3, Var4, Var5, Target. And if you have to find top 3 correlation, it can be: Var1 & Var2, Var2 & Var3, Var1 & Var3. Target variable will not feature in this correlation as it is a categorical variable and not a continuous variable which is increasing or decreasing.\n",
        "* **Include visualizations and summarize the most important results in the presentation**You are free to choose the graphs which explain the numerical/categorical variables. Insights should explain why the variable is important for differentiating the clients with payment difficulties with all other cases."
      ],
      "metadata": {
        "id": "47vNswjNHdBm"
      }
    },
    {
      "cell_type": "markdown",
      "source": [
        "**Define Your Business Objective?**\n",
        "\n",
        "Using data visualization on our target variable bank loan case, we can clearly see the"
      ],
      "metadata": {
        "id": "vRXA5bonIg3W"
      }
    },
    {
      "cell_type": "markdown",
      "source": [
        "**Dataset Loading**"
      ],
      "metadata": {
        "id": "fogjYeVGIzNx"
      }
    },
    {
      "cell_type": "code",
      "execution_count": null,
      "metadata": {
        "id": "6PKLwiwTFXpE"
      },
      "outputs": [],
      "source": [
        "import pandas as pd\n",
        "import numpy as np\n",
        "import matplotlib.pyplot as plt\n",
        "import seaborn as sns\n",
        "from datetime import datetime as dt\n",
        "import math\n",
        "import warnings\n",
        "warnings.filterwarnings('ignore')\n",
        "import seaborn"
      ]
    },
    {
      "cell_type": "code",
      "source": [
        "from google.colab import drive\n",
        "drive.mount('/content/drive')"
      ],
      "metadata": {
        "id": "TNyiSAvtFaOb"
      },
      "execution_count": null,
      "outputs": []
    },
    {
      "cell_type": "code",
      "source": [
        "df=pd.read_csv('/content/application_data.csv')"
      ],
      "metadata": {
        "id": "k3n5fJLYS9Dh"
      },
      "execution_count": null,
      "outputs": []
    },
    {
      "cell_type": "code",
      "source": [
        "df.head()"
      ],
      "metadata": {
        "id": "XWIRCYv5S_im"
      },
      "execution_count": null,
      "outputs": []
    },
    {
      "cell_type": "markdown",
      "source": [
        "**Dataset Rows & Columns count**"
      ],
      "metadata": {
        "id": "GsjHSpYYI847"
      }
    },
    {
      "cell_type": "code",
      "source": [
        "# Dataset Rows & Columns count\n",
        "df.shape"
      ],
      "metadata": {
        "id": "kdYMKE2xI_X6"
      },
      "execution_count": null,
      "outputs": []
    },
    {
      "cell_type": "code",
      "source": [
        "df.TARGET.value_counts()"
      ],
      "metadata": {
        "id": "nMMANu1mJK-a"
      },
      "execution_count": null,
      "outputs": []
    },
    {
      "cell_type": "code",
      "source": [
        "# Checking for duplicate records\n",
        "df.duplicated().value_counts()"
      ],
      "metadata": {
        "id": "Ug6uZyv2KhLq"
      },
      "execution_count": null,
      "outputs": []
    },
    {
      "cell_type": "code",
      "source": [
        "# Dataset Duplicate Value Count\n",
        "print('Duplicate entries: {}'.format(df.duplicated().sum()))\n",
        "print('{}% rows are duplicate.'.format(round((df.duplicated().sum()/df.shape[0])*100),2))\n",
        "df.drop_duplicates(inplace = True)"
      ],
      "metadata": {
        "id": "f4XikdGOKlKx"
      },
      "execution_count": null,
      "outputs": []
    },
    {
      "cell_type": "markdown",
      "source": [
        "**Dataset Information**\n",
        "\n",
        " Where as in this dataset the shape of application 157266 rows and 122 columns .and my data type is object.\n",
        "\n",
        "Their is no any duplicate entries.\n",
        "\n",
        "* SK_ID_CURR: It refers to the unique identifier of each loan application in the dataset. It is a numerical value assigned to each applicant.\n",
        "\n",
        "* TARGET: It is a binary variable that indicates whether a loan application had payment difficulties or not. The value 1 indicates that the applicant had difficulties, and 0 indicates no difficulties.\n",
        "\n",
        "* NAME_CONTRACT_TYPE: It represents the type of loan contract associated with the application. It can have two possible values: \"Cash loans\" or \"Revolving loans\". Cash loans are standard loans with a fixed number of payments, while revolving loans are credit lines where the borrower can make repeated use of the funds.\n",
        "\n",
        "* CODE_GENDER: It represents the gender of the applicant. It can have three possible values: \"M\" for male, \"F\" for female, and \"XNA\" for gender not available.\n",
        "\n",
        "* FLAG_OWN_CAR: It indicates whether the applicant owns a car or not. It can have two possible values: \"Y\" for yes, indicating the applicant owns a car, and \"N\" for no, indicating the applicant does not own a car.\n",
        "\n",
        "* FLAG_OWN_REALTY: It indicates whether the applicant owns real estate or not. It can have two possible values: \"Y\" for yes, indicating the applicant owns real estate, and \"N\" for no, indicating the applicant does not own real estate.\n",
        "\n",
        "* CNT_CHILDREN: It represents the number of children the applicant has.\n",
        "\n",
        "* AMT_INCOME_TOTAL: It denotes the total income of the applicant.\n",
        "\n",
        "* AMT_CREDIT: It represents the total amount of credit requested by the applicant.\n",
        "\n",
        "* AMT_ANNUITY: It denotes the annuity amount of the loan, which is the periodic payment made by the borrower to repay the loan.\n",
        "...\n"
      ],
      "metadata": {
        "id": "hZ2Tq7YOJWbx"
      }
    },
    {
      "cell_type": "markdown",
      "source": [
        "**Data pre-processing:**\n",
        "\n",
        "* Summary Statistics\n",
        "\n",
        "* Dealing with outliers\n",
        "\n",
        "* Handling Missing Values\n",
        "\n",
        "* Feature Scaling"
      ],
      "metadata": {
        "id": "wlzN_GISKJTC"
      }
    },
    {
      "cell_type": "markdown",
      "source": [
        "Missing Values/Null Values"
      ],
      "metadata": {
        "id": "SxTlbGItKS22"
      }
    },
    {
      "cell_type": "code",
      "source": [
        "# Missing Values/Null Values Count\n",
        "df.info()"
      ],
      "metadata": {
        "id": "hXazacZlK6dA"
      },
      "execution_count": null,
      "outputs": []
    },
    {
      "cell_type": "code",
      "source": [
        "df.dtypes"
      ],
      "metadata": {
        "id": "t0VatH0yK_qw"
      },
      "execution_count": null,
      "outputs": []
    },
    {
      "cell_type": "code",
      "source": [
        "df.isnull().sum()"
      ],
      "metadata": {
        "id": "CFiqhUXHLGlI"
      },
      "execution_count": null,
      "outputs": []
    },
    {
      "cell_type": "markdown",
      "source": [
        "**Handel missing value**\n",
        "\n",
        "**sorted the variable which contains more than 50% missing value**"
      ],
      "metadata": {
        "id": "10Hi69gVLV7P"
      }
    },
    {
      "cell_type": "markdown",
      "source": [
        "Variables with a large number of missing values may indicate issues with data quality or data collection processes. If a variable has more than 50% missing values, it may not provide reliable or meaningful information for analysis. Removing such variables helps maintain the overall data quality.\n",
        "\n",
        "Large datasets with numerous missing values can slow down computational processes and increase memory usage. Removing unnecessary variables with a significant amount of missing data can improve computational efficiency, especially if these variables are not expected to contribute substantially to the analysis or modeling"
      ],
      "metadata": {
        "id": "7mT3qXhZSppi"
      }
    },
    {
      "cell_type": "code",
      "source": [
        "missing_percentage = (df.isnull().sum() * 100 / len(df)).sort_values(ascending=False).round(3)\n",
        "print(missing_percentage)"
      ],
      "metadata": {
        "id": "V5KdvoIVLjod"
      },
      "execution_count": null,
      "outputs": []
    },
    {
      "cell_type": "markdown",
      "source": [
        "calculates the percentage of missing values in each column of the DataFrame df and sorts the values in descending order. It then rounds the percentages to three decimal places and stores the result in the missing_percentage variable. Finally, it prints the missing_percentage variable."
      ],
      "metadata": {
        "id": "9ilPfAF_MLHG"
      }
    },
    {
      "cell_type": "code",
      "source": [
        "missing_percentage = (df.isnull().sum() * 100 / len(df)).sort_values(ascending=False)\n",
        "missing_percentage = missing_percentage[missing_percentage > 50]\n",
        "print(missing_percentage)"
      ],
      "metadata": {
        "id": "B8lRhqKhL_57"
      },
      "execution_count": null,
      "outputs": []
    },
    {
      "cell_type": "markdown",
      "source": [
        " sorts the values in descending order, and filters out only the columns with missing percentages greater than 50%. The resulting filtered missing_percentage variable is then printed.\n",
        "\n",
        "The output will contain the column names and their corresponding missing percentages that exceed 50%."
      ],
      "metadata": {
        "id": "5lgN2EgKMqYC"
      }
    },
    {
      "cell_type": "code",
      "source": [
        "# checking row_wise null percentage\n",
        "df_null =pd.DataFrame(df.isnull().sum(axis=1),columns=['num_of_miss_value'])\n",
        "df_null"
      ],
      "metadata": {
        "id": "nhW5h6InMFjE"
      },
      "execution_count": null,
      "outputs": []
    },
    {
      "cell_type": "markdown",
      "source": [
        "That contains the number of missing values in each row of the original DataFrame df. It calculates the sum of missing values along each row by using the axis=1"
      ],
      "metadata": {
        "id": "bYBdPutLM4uJ"
      }
    },
    {
      "cell_type": "markdown",
      "source": [
        "**Drop all the missing_value which is greater than 50%**"
      ],
      "metadata": {
        "id": "iE-V7CXHNCtJ"
      }
    },
    {
      "cell_type": "code",
      "source": [
        "# Calculate the percentage of missing values for each column\n",
        "missing_percentage = (df.isnull().sum() / len(df)) * 100\n",
        "print(missing_percentage)"
      ],
      "metadata": {
        "id": "Q8FVHMOqM8Vc"
      },
      "execution_count": null,
      "outputs": []
    },
    {
      "cell_type": "markdown",
      "source": [
        " Display the percentage of missing values for each column in the DataFrame. Each column name will be followed by its corresponding missing percentage."
      ],
      "metadata": {
        "id": "xWbNY2mUO9pP"
      }
    },
    {
      "cell_type": "code",
      "source": [
        "# Get the columns to drop (more than 50% missing values)\n",
        "columns_to_drop = missing_percentage[missing_percentage > 50].index\n",
        "print(columns_to_drop)"
      ],
      "metadata": {
        "id": "paAkBHqxNjzH"
      },
      "execution_count": null,
      "outputs": []
    },
    {
      "cell_type": "code",
      "source": [
        "# Drop the columns with more than 50% missing values\n",
        "df_app = df.drop(columns=columns_to_drop)"
      ],
      "metadata": {
        "id": "5TWDf6T1Noo1"
      },
      "execution_count": null,
      "outputs": []
    },
    {
      "cell_type": "code",
      "source": [
        "df_app.shape"
      ],
      "metadata": {
        "id": "6dNJ6aHkOBBr"
      },
      "execution_count": null,
      "outputs": []
    },
    {
      "cell_type": "markdown",
      "source": [
        "**miss_value treatment**"
      ],
      "metadata": {
        "id": "OPUOkAmhlcK-"
      }
    },
    {
      "cell_type": "markdown",
      "source": [
        "understanding best imputation technique for with ~13% of mising value\n",
        "The target value for this analysis will be\n",
        "\n",
        "* AMT_REQ_CREDIT_BUREAU_DAY     13.42706\n",
        "*AMT_REQ_CREDIT_BUREAU_WEEK    13.42706\n",
        "*AMT_REQ_CREDIT_BUREAU_MON     13.42706\n",
        "*AMT_REQ_CREDIT_BUREAU_QRT     13.42706\n",
        "*AMT_REQ_CREDIT_BUREAU_YEAR    13.42706"
      ],
      "metadata": {
        "id": "d4bUQm_-d5yX"
      }
    },
    {
      "cell_type": "code",
      "source": [
        "# target value type\n",
        "target_dtype = ['AMT_REQ_CREDIT_BUREAU_DAY','AMT_REQ_CREDIT_BUREAU_WEEK',\n",
        "       'AMT_REQ_CREDIT_BUREAU_MON','AMT_REQ_CREDIT_BUREAU_QRT',\n",
        "       'AMT_REQ_CREDIT_BUREAU_YEAR']"
      ],
      "metadata": {
        "id": "uu8QNil7eIDk"
      },
      "execution_count": null,
      "outputs": []
    },
    {
      "cell_type": "code",
      "source": [
        "df_app[target_dtype].dtypes"
      ],
      "metadata": {
        "id": "8G1cAAtdg37R"
      },
      "execution_count": null,
      "outputs": []
    },
    {
      "cell_type": "markdown",
      "source": [
        "All the target column seen to be 'float' type"
      ],
      "metadata": {
        "id": "GbJalc9OhBIs"
      }
    },
    {
      "cell_type": "markdown",
      "source": [
        "Identifying imputation technique for AMT_REQ_CREDIT_BUREAU_DAY"
      ],
      "metadata": {
        "id": "BJ6jmHtVhQ7W"
      }
    },
    {
      "cell_type": "code",
      "source": [
        "sns.boxplot(df_app['AMT_REQ_CREDIT_BUREAU_DAY'])"
      ],
      "metadata": {
        "id": "9XwQwa4Phkwa"
      },
      "execution_count": null,
      "outputs": []
    },
    {
      "cell_type": "markdown",
      "source": [
        "In this boxplot there are alots of outlier , we need futher analysis rest of the data"
      ],
      "metadata": {
        "id": "sIQKo1Z0h-s-"
      }
    },
    {
      "cell_type": "code",
      "source": [
        "df_app['AMT_REQ_CREDIT_BUREAU_DAY'].value_counts()"
      ],
      "metadata": {
        "id": "ct3a2kjpibt4"
      },
      "execution_count": null,
      "outputs": []
    },
    {
      "cell_type": "markdown",
      "source": [
        "majority Of columns has 0 as value"
      ],
      "metadata": {
        "id": "4UpJlR4WixEh"
      }
    },
    {
      "cell_type": "code",
      "source": [
        "from matplotlib.colors import Normalize\n",
        "#convert into percentage of this records\n",
        "df_app['AMT_REQ_CREDIT_BUREAU_DAY'].value_counts(normalize=True)*100"
      ],
      "metadata": {
        "id": "MiZYZylVi64m"
      },
      "execution_count": null,
      "outputs": []
    },
    {
      "cell_type": "code",
      "source": [
        "#checking statistics of the column\n",
        "df_app['AMT_REQ_CREDIT_BUREAU_DAY'].describe()"
      ],
      "metadata": {
        "id": "nsqVS8l4jk10"
      },
      "execution_count": null,
      "outputs": []
    },
    {
      "cell_type": "markdown",
      "source": [
        "upto 75% value will be zero value and the we got some maximun heigh value i.e 9.0\n",
        "in above data we said that 99% of zero value ,so we impute the column replacing all the with 0 this techique know as mode imputation\n"
      ],
      "metadata": {
        "id": "TKv3Y3VCj8gZ"
      }
    },
    {
      "cell_type": "code",
      "source": [
        "#Identifying imputation technique for AMT_REQ_CREDIT_BUREAU_DAY\n",
        "sns.boxplot(df_app['AMT_REQ_CREDIT_BUREAU_WEEK'])"
      ],
      "metadata": {
        "id": "CQ5bOFnzlnJR"
      },
      "execution_count": null,
      "outputs": []
    },
    {
      "cell_type": "code",
      "source": [
        "df_app['AMT_REQ_CREDIT_BUREAU_WEEK'].value_counts()"
      ],
      "metadata": {
        "id": "aJfNZSSalwEs"
      },
      "execution_count": null,
      "outputs": []
    },
    {
      "cell_type": "code",
      "source": [
        "from matplotlib.colors import Normalize\n",
        "#convert into percentage of this records\n",
        "df_app['AMT_REQ_CREDIT_BUREAU_WEEK'].value_counts(normalize=True)*100"
      ],
      "metadata": {
        "id": "S3T_-Afllz1P"
      },
      "execution_count": null,
      "outputs": []
    },
    {
      "cell_type": "code",
      "source": [
        "#checking statistics of the column\n",
        "df_app['AMT_REQ_CREDIT_BUREAU_WEEK'].describe()"
      ],
      "metadata": {
        "id": "Uts7Oqgrl2iM"
      },
      "execution_count": null,
      "outputs": []
    },
    {
      "cell_type": "code",
      "source": [
        "#Identifying imputation technique for AMT_REQ_CREDIT_BUREAU_DAY\n",
        "sns.boxplot(df_app['AMT_REQ_CREDIT_BUREAU_MON'])"
      ],
      "metadata": {
        "id": "uWbY-dMRl42L"
      },
      "execution_count": null,
      "outputs": []
    },
    {
      "cell_type": "code",
      "source": [
        "df_app['AMT_REQ_CREDIT_BUREAU_MON'].value_counts()"
      ],
      "metadata": {
        "id": "UPImqNE0l6iz"
      },
      "execution_count": null,
      "outputs": []
    },
    {
      "cell_type": "code",
      "source": [
        "from matplotlib.colors import Normalize\n",
        "#convert into percentage of this records\n",
        "df_app['AMT_REQ_CREDIT_BUREAU_MON'].value_counts(normalize=True)*100"
      ],
      "metadata": {
        "id": "6TKS8g1gl8Mw"
      },
      "execution_count": null,
      "outputs": []
    },
    {
      "cell_type": "code",
      "source": [
        "#checking statistics of the column\n",
        "df_app['AMT_REQ_CREDIT_BUREAU_MON'].describe()"
      ],
      "metadata": {
        "id": "BtSzzCxIl98v"
      },
      "execution_count": null,
      "outputs": []
    },
    {
      "cell_type": "code",
      "source": [
        "#Identifying imputation technique for AMT_REQ_CREDIT_BUREAU_QRT\n",
        "sns.boxplot(df_app['AMT_REQ_CREDIT_BUREAU_QRT'])"
      ],
      "metadata": {
        "id": "hJlX5hF0l_zG"
      },
      "execution_count": null,
      "outputs": []
    },
    {
      "cell_type": "code",
      "source": [
        "df_app['AMT_REQ_CREDIT_BUREAU_QRT'].value_counts()"
      ],
      "metadata": {
        "id": "Mg-ozA2gmBZE"
      },
      "execution_count": null,
      "outputs": []
    },
    {
      "cell_type": "code",
      "source": [
        "from matplotlib.colors import Normalize\n",
        "#convert into percentage of this records\n",
        "df_app['AMT_REQ_CREDIT_BUREAU_QRT'].value_counts(normalize=True)*100"
      ],
      "metadata": {
        "id": "Si6K5HKdmDKx"
      },
      "execution_count": null,
      "outputs": []
    },
    {
      "cell_type": "code",
      "source": [
        "#checking statistics of the column\n",
        "df_app['AMT_REQ_CREDIT_BUREAU_QRT'].describe()"
      ],
      "metadata": {
        "id": "LhQfgY6imE4h"
      },
      "execution_count": null,
      "outputs": []
    },
    {
      "cell_type": "code",
      "source": [
        "#Identifying imputation technique for AMT_REQ_CREDIT_BUREAU_YEAR\n",
        "sns.boxplot(df_app['AMT_REQ_CREDIT_BUREAU_YEAR'])"
      ],
      "metadata": {
        "id": "LLMS1fFdmcdD"
      },
      "execution_count": null,
      "outputs": []
    },
    {
      "cell_type": "code",
      "source": [
        "df_app['AMT_REQ_CREDIT_BUREAU_YEAR'].value_counts()"
      ],
      "metadata": {
        "id": "ZWXZeneBmd9g"
      },
      "execution_count": null,
      "outputs": []
    },
    {
      "cell_type": "code",
      "source": [
        "from matplotlib.colors import Normalize\n",
        "#convert into percentage of this records\n",
        "df_app['AMT_REQ_CREDIT_BUREAU_YEAR'].value_counts(normalize=True)*100"
      ],
      "metadata": {
        "id": "dwcaCf__mgkk"
      },
      "execution_count": null,
      "outputs": []
    },
    {
      "cell_type": "code",
      "source": [
        "#checking statistics of the column\n",
        "df_app['AMT_REQ_CREDIT_BUREAU_YEAR'].describe()"
      ],
      "metadata": {
        "id": "gti-PJq8miI-"
      },
      "execution_count": null,
      "outputs": []
    },
    {
      "cell_type": "markdown",
      "source": [
        "value 0,1,2,3  are represent significant number hence imputing null value of the statistics so best approach should be remove these rows"
      ],
      "metadata": {
        "id": "6ps7f5YZoWeM"
      }
    },
    {
      "cell_type": "markdown",
      "source": [
        "**2. Understanding Your Variables**"
      ],
      "metadata": {
        "id": "e_vfFohcPNLo"
      }
    },
    {
      "cell_type": "code",
      "source": [
        "# Dataset Describe\n",
        "df_app.describe().transpose()    #we need only numerical colums."
      ],
      "metadata": {
        "id": "P62iVa0rPP-1"
      },
      "execution_count": null,
      "outputs": []
    },
    {
      "cell_type": "markdown",
      "source": [
        "**Variables Description**\n",
        "\n",
        "In 'AMT_CREDIT' colums :\n",
        "\n",
        " * The count is 1922.0, indicating that there are 1922 non-null values in the 'AMT_CREDIT' column.This means that out of all the records in your dataset, 1922 records have a value for 'AMT_CREDIT' while the remaining records may have missing values.\n",
        "\n",
        " * The minimum value for 'AMT_CREDIT' is 47,970.0.It indicates the lower boundary or floor value of the 'AMT_CREDIT' data.\n",
        "\n",
        " * The 25th percentile value for 'AMT_CREDIT' is 273,636.0. This means that 25% of the 'AMT_CREDIT' values fall below this value. It represents the first quartile of the 'AMT_CREDIT' data distribution.\n",
        "\n",
        "* 50th Percentile (Median or Q2): The 50th percentile value for 'AMT_CREDIT' is 521,280.0. This is also known as the median value and represents the middle value in the ordered\n",
        "\n",
        "* 75th Percentile (Q3): The 75th percentile value for 'AMT_CREDIT' is 808,650.0. This means that 75% of the 'AMT_CREDIT' values fall below this value. It represents the third quartile of the 'AMT_CREDIT' data distribution\n",
        "\n",
        "* Maximum: The maximum value for 'AMT_CREDIT' is 2,286,211.5. This represents the largest observed 'AMT_CREDIT' amount among the 1922 non-null records. It indicates the upper boundary or ceiling value of the 'AMT_CREDIT' data.\n",
        "\n",
        "**Difference = Mean -Median**\n",
        "\n",
        "Difference = 599,020.56-521,280.0\n",
        "Difference =77,740.56\n",
        "\n",
        "*In this specific case, where the mean (599,020.564776) is higher than the median (521,280.0), it suggests that the 'AMT_CREDIT' distribution is positively skewed.\n",
        "\n",
        "*The difference between the mean and median (77,740.56) represents the skewness of the distribution.\n",
        "\n",
        "**Difference = Median - Minimum**\n",
        "Difference = 521,280.0 - 47,970.0\n",
        "Difference = 473,310.0\n",
        "\n",
        "This indicates the range or spread of values between the smallest observed 'AMT_CREDIT' amount and the median.\n",
        "\n",
        " summary statistics provide an overview of the distribution, central tendency, and range of values in the 'AMT_CREDIT' column. They help in understanding the typical loan amounts, variability, and the spread of data in the 'AMT_CREDIT' variable"
      ],
      "metadata": {
        "id": "k1yaxOLCPqud"
      }
    },
    {
      "cell_type": "markdown",
      "source": [
        "**EDA**"
      ],
      "metadata": {
        "id": "plrebZu0Rc57"
      }
    },
    {
      "cell_type": "code",
      "source": [
        "# Let's visualise the relationship between each pair of variables using pair plots."
      ],
      "metadata": {
        "id": "nrdN6R1-Snx5"
      },
      "execution_count": null,
      "outputs": []
    },
    {
      "cell_type": "code",
      "source": [
        "# Randomly sample a subset of the data\n",
        "sample_size = 1000  # Adjust the sample size as needed\n",
        "sampled_df = df_app.sample(n=sample_size, random_state=1)\n",
        "# estimate the possible denstity distrubution in mathamatical base observation on datasheat"
      ],
      "metadata": {
        "id": "ZC4Bl-QCSJhv"
      },
      "execution_count": null,
      "outputs": []
    },
    {
      "cell_type": "code",
      "source": [
        "# Select the columns of interest\n",
        "selected_columns = ['AMT_CREDIT','AMT_GOODS_PRICE','AMT_INCOME_TOTAL',\n",
        "       'AMT_REQ_CREDIT_BUREAU_YEAR']  # Modify with your desired columns\n",
        "subset_df = sampled_df[selected_columns]"
      ],
      "metadata": {
        "id": "tJplPxNCSgad"
      },
      "execution_count": null,
      "outputs": []
    },
    {
      "cell_type": "code",
      "source": [
        "# Create pair plots\n",
        "sns.pairplot(subset_df, diag_kind='kde')"
      ],
      "metadata": {
        "id": "JpUgQtusSkov"
      },
      "execution_count": null,
      "outputs": []
    },
    {
      "cell_type": "markdown",
      "source": [
        "In diangol kind kde (kernel density kde ) in the from of square metrix compression b/w rows by rows\n",
        "\n",
        "* we see that first rows and first rows are same so on..\n",
        "\n",
        "* when we compare b/w colums vs columns its we get default result no any information getting from them so we automatic give me histrogram plot with normal distrubution on the table .\n",
        "\n",
        "* now we see that close histrogram plot we get mean & median are equal now also see that its tails will be equall distrubted but we are appecting the normal distrubution but her is two gaussian and two normal curve overlapping each other this is called mixed of gaussian. so we assumed in algrothim are independent are distrubuted normally. gaussian mean distrubution."
      ],
      "metadata": {
        "id": "_pAKidqwRzOx"
      }
    },
    {
      "cell_type": "markdown",
      "source": [
        "# **Indetifying Outliers for Numerical columns**"
      ],
      "metadata": {
        "id": "qb1nmpsTpW9f"
      }
    },
    {
      "cell_type": "markdown",
      "source": [
        "**For the outlier analysis of numerical-columns wii focus on**\n",
        "\n",
        "['AMT_CREDIT',\n",
        "\n",
        "'AMT_GOODS_PRICE',\n",
        "\n",
        "'AMT_INCOME_TOTAL',\n",
        "\n",
        "'AMT_ANNUITY;\n",
        "\n",
        "'AMT_REQ_CREDIT_BUREAU_YEAR']  \n"
      ],
      "metadata": {
        "id": "QOMcMRwcpo6g"
      }
    },
    {
      "cell_type": "code",
      "source": [
        "# Outlier Analysis for AMT_CREDIT\n",
        "sns.boxplot(df_app['AMT_CREDIT']/1000)"
      ],
      "metadata": {
        "id": "l1JVczEG6wE_"
      },
      "execution_count": null,
      "outputs": []
    },
    {
      "cell_type": "code",
      "source": [
        "#checking column statistics\n",
        "(df_app['AMT_CREDIT']/1000).describe()"
      ],
      "metadata": {
        "id": "cpMaEII07M38"
      },
      "execution_count": null,
      "outputs": []
    },
    {
      "cell_type": "markdown",
      "source": [
        "**IQR METHOD**"
      ],
      "metadata": {
        "id": "mJQufmpD7hvJ"
      }
    },
    {
      "cell_type": "code",
      "source": [
        "#maximum value for boxplot\n",
        "# Calculate the maximum value for the upper whisker of the box plot\n",
        "Q3 = df_app['AMT_CREDIT'].quantile(0.75)\n",
        "IQR = 1.5 * (Q3 - df['AMT_CREDIT'].quantile(0.25))\n",
        "upper_limit = Q3 + IQR\n",
        "print(upper_limit)"
      ],
      "metadata": {
        "id": "CMVs2QS77cPH"
      },
      "execution_count": null,
      "outputs": []
    },
    {
      "cell_type": "code",
      "source": [
        "# Calculate the percentage of values above the upper limit\n",
        "percentage_above_limit = round(100.0 * len(df[df['AMT_CREDIT'] > upper_limit]) / len(df), 2)\n",
        "\n",
        "# Print the result\n",
        "print(\"Percentage of values above the upper limit:\", percentage_above_limit)"
      ],
      "metadata": {
        "id": "v_MGLkTt7wmQ"
      },
      "execution_count": null,
      "outputs": []
    },
    {
      "cell_type": "markdown",
      "source": [
        "hence from the boxplot,we can see there are outier in AMT_CREDIT where percentage_above_limit is 2.16 to manage extreme values that could potentially affect your analysis."
      ],
      "metadata": {
        "id": "vOWMg_el72Tf"
      }
    },
    {
      "cell_type": "markdown",
      "source": [
        "**outlier analysis for AMT_GOODS_PRICE'**"
      ],
      "metadata": {
        "id": "8DLsrfra8CIi"
      }
    },
    {
      "cell_type": "code",
      "source": [
        "# Outlier Analysis for AMT_CREDIT\n",
        "sns.boxplot(df_app['AMT_GOODS_PRICE']/1000)"
      ],
      "metadata": {
        "id": "I-i0cvgg8NjB"
      },
      "execution_count": null,
      "outputs": []
    },
    {
      "cell_type": "code",
      "source": [
        "#checking column statistics\n",
        "(df_app['AMT_GOODS_PRICE']/1000).describe()"
      ],
      "metadata": {
        "id": "1q_ZhYer8Rcj"
      },
      "execution_count": null,
      "outputs": []
    },
    {
      "cell_type": "code",
      "source": [
        "#maximum value for boxplot\n",
        "# Calculate the maximum value for the upper whisker of the box plot\n",
        "Q3 = df_app['AMT_GOODS_PRICE'].quantile(0.75)\n",
        "IQR = 1.5 * (Q3 - df['AMT_GOODS_PRICE'].quantile(0.25))\n",
        "upper_limit = Q3 + IQR\n",
        "print(upper_limit)"
      ],
      "metadata": {
        "id": "WWfGoxES8VZy"
      },
      "execution_count": null,
      "outputs": []
    },
    {
      "cell_type": "code",
      "source": [
        "# Calculate the percentage of values above the upper limit\n",
        "percentage_above_limit = round(100.0 * len(df[df['AMT_GOODS_PRICE'] > upper_limit]) / len(df), 2)\n",
        "\n",
        "# Print the result\n",
        "print(\"Percentage of values above the upper limit:\", percentage_above_limit)"
      ],
      "metadata": {
        "id": "NwpXEEgX8Y8U"
      },
      "execution_count": null,
      "outputs": []
    },
    {
      "cell_type": "markdown",
      "source": [
        "**outlier analysis for AMT_INCOME_TOTAL'**"
      ],
      "metadata": {
        "id": "IHV-E6Eo8bna"
      }
    },
    {
      "cell_type": "code",
      "source": [
        "# Outlier Analysis for AMT_INCOME_TOTAL\n",
        "sns.boxplot(df_app['AMT_INCOME_TOTAL']/1000)"
      ],
      "metadata": {
        "id": "KYzFRhw78bWu"
      },
      "execution_count": null,
      "outputs": []
    },
    {
      "cell_type": "code",
      "source": [
        "#checking column statistics\n",
        "(df_app['AMT_INCOME_TOTAL']/1000).describe()"
      ],
      "metadata": {
        "id": "XNbMcU888imu"
      },
      "execution_count": null,
      "outputs": []
    },
    {
      "cell_type": "code",
      "source": [
        "#maximum value for boxplot\n",
        "# Calculate the maximum value for the upper whisker of the box plot\n",
        "Q3 = df_app['AMT_INCOME_TOTAL'].quantile(0.75)\n",
        "IQR = 1.5 * (Q3 - df['AMT_INCOME_TOTAL'].quantile(0.25))\n",
        "upper_limit = Q3 + IQR\n",
        "print(upper_limit)"
      ],
      "metadata": {
        "id": "IkYXk2y58mCt"
      },
      "execution_count": null,
      "outputs": []
    },
    {
      "cell_type": "code",
      "source": [
        "# Calculate the percentage of values above the upper limit\n",
        "percentage_above_limit = round(100.0 * len(df[df['AMT_INCOME_TOTAL'] > upper_limit]) / len(df), 2)\n",
        "\n",
        "# Print the result\n",
        "print(\"Percentage of values above the upper limit:\", percentage_above_limit)"
      ],
      "metadata": {
        "id": "awxr17UM8n71"
      },
      "execution_count": null,
      "outputs": []
    },
    {
      "cell_type": "markdown",
      "source": [
        "**outlier analysis for AMT_ANNUITY'**"
      ],
      "metadata": {
        "id": "0lTxP5Gi8toV"
      }
    },
    {
      "cell_type": "code",
      "source": [
        "# Outlier Analysis for AMT_ANNUITY\n",
        "sns.boxplot(df_app['AMT_ANNUITY']/1000)"
      ],
      "metadata": {
        "id": "EpCL9aBX8ss8"
      },
      "execution_count": null,
      "outputs": []
    },
    {
      "cell_type": "markdown",
      "source": [
        "minimum outlier (Q1-1.5*IQR)\n",
        "\n",
        "Maximum Outlier (Q3+1.5*IQR)\n",
        "\n",
        "Medium (IQR) B/W 25% AND 75% ( Q1 AND Q3)"
      ],
      "metadata": {
        "id": "4L9ThEvL--ut"
      }
    },
    {
      "cell_type": "code",
      "source": [
        "#checking column statistics\n",
        "(df_app['AMT_ANNUITY']/1000).describe()"
      ],
      "metadata": {
        "id": "64GuTHSW82hN"
      },
      "execution_count": null,
      "outputs": []
    },
    {
      "cell_type": "code",
      "source": [
        "#maximum value for boxplot\n",
        "# Calculate the maximum value for the upper whisker of the box plot\n",
        "Q3 = df_app['AMT_ANNUITY'].quantile(0.75)\n",
        "IQR = 1.5 * (Q3 - df['AMT_ANNUITY'].quantile(0.25))\n",
        "upper_limit = Q3 + IQR\n",
        "print(upper_limit)"
      ],
      "metadata": {
        "id": "t4NUPtp487I9"
      },
      "execution_count": null,
      "outputs": []
    },
    {
      "cell_type": "code",
      "source": [
        "# Calculate the percentage of values above the upper limit\n",
        "percentage_above_limit = round(100.0 * len(df[df['AMT_ANNUITY'] > upper_limit]) / len(df), 2)\n",
        "\n",
        "# Print the result\n",
        "print(\"Percentage of values above the upper limit:\", percentage_above_limit)"
      ],
      "metadata": {
        "id": "I79tqx3T8_c8"
      },
      "execution_count": null,
      "outputs": []
    },
    {
      "cell_type": "code",
      "source": [
        "# Converting '-ve' values into '+ve' Values\n",
        "df_app['DAYS_BIRTH'] = df_app['DAYS_BIRTH'].abs()\n",
        "df_app['DAYS_EMPLOYED'] = df_app['DAYS_EMPLOYED'].abs()\n",
        "df_app['DAYS_REGISTRATION'] = df_app['DAYS_REGISTRATION'].abs()\n",
        "df_app['DAYS_ID_PUBLISH'] = df_app['DAYS_ID_PUBLISH'].abs()"
      ],
      "metadata": {
        "id": "ONGSbKUiHLEa"
      },
      "execution_count": null,
      "outputs": []
    },
    {
      "cell_type": "code",
      "source": [
        "#Converting number of days of birth and employed into years\n",
        "#by considering average days of a year as 365\n",
        "df_app.DAYS_BIRTH=df_app.DAYS_BIRTH.values/365\n",
        "df_app.DAYS_EMPLOYED=df_app.DAYS_EMPLOYED.values/365"
      ],
      "metadata": {
        "id": "fAYAxk_7GsTB"
      },
      "execution_count": null,
      "outputs": []
    },
    {
      "cell_type": "code",
      "source": [
        "df_app.shape"
      ],
      "metadata": {
        "id": "ZZnGI01_Cy0A"
      },
      "execution_count": null,
      "outputs": []
    },
    {
      "cell_type": "markdown",
      "source": [
        "**RANGE OF INCOME &credit**\n",
        "\n"
      ],
      "metadata": {
        "id": "ve-aHYn2IjO9"
      }
    },
    {
      "cell_type": "code",
      "source": [
        "income=[0,25000,50000,75000,100000,125000,150000,175000,200000,225000,250000,275000,300000,325000,\n",
        "        350000,375000,400000,425000,450000,475000,500000,10000000000]\n",
        "slots = ['0-25000','25000-50000','50000-75000','75000,100000','100000-125000', '125000-150000',\n",
        "         '150000-175000','175000-200000','200000-225000','225000-250000','250000-275000','275000-300000',\n",
        "         '300000-325000','325000-350000','350000-375000','375000-400000','400000-425000','425000-450000',\n",
        "         '450000-475000','475000-500000','500000 and above']\n",
        "df_app['Income_range']=pd.cut(df_app['AMT_INCOME_TOTAL'],bins=income,labels=slots)"
      ],
      "metadata": {
        "id": "fsxa-KSdHt4N"
      },
      "execution_count": null,
      "outputs": []
    },
    {
      "cell_type": "code",
      "source": [
        "df_app.Income_range.value_counts()"
      ],
      "metadata": {
        "id": "2Adm6NrHIAXv"
      },
      "execution_count": null,
      "outputs": []
    },
    {
      "cell_type": "code",
      "source": [
        "credit = [0,150000,200000,250000,300000,350000,400000,450000,500000,550000,600000,\n",
        "          650000,700000,750000,800000,850000,900000,1000000000]\n",
        "creditslots = ['0-150000', '150000-200000','200000-250000', '250000-300000', '300000-350000',\n",
        "               '350000-400000','400000-450000','450000-500000','500000-550000','550000-600000',\n",
        "               '600000-650000','650000-700000','700000-750000','750000-800000','800000-850000',\n",
        "               '850000-900000','900000 and above']\n",
        "\n",
        "df_app['CREDIT_RANGE'] = pd.cut(df_app.AMT_CREDIT,bins=credit,labels=creditslots)"
      ],
      "metadata": {
        "id": "xFFBVp7qIJoI"
      },
      "execution_count": null,
      "outputs": []
    },
    {
      "cell_type": "code",
      "source": [
        "df_app.CREDIT_RANGE.value_counts()"
      ],
      "metadata": {
        "id": "ZPOpn9nyIalZ"
      },
      "execution_count": null,
      "outputs": []
    },
    {
      "cell_type": "markdown",
      "source": [
        "**Unique Variable**"
      ],
      "metadata": {
        "id": "N36BUDC8IwrA"
      }
    },
    {
      "cell_type": "code",
      "source": [
        "# Check Unique Values for each variable.\n",
        "numerical_value =[\n",
        "'AMT_INCOME_TOTA',\n",
        "'AMT_CREDIT',\n",
        "'AMT_ANNUITY',\n",
        "'AMT_GOODS_PRICE',\n",
        "'DAYS_BIRTH',\n",
        " 'DAYS_EMPLOYED',\n",
        "'DAYS_LAST_PHONE_CHANGE']\n"
      ],
      "metadata": {
        "id": "GW6TXP9YR-9J"
      },
      "execution_count": null,
      "outputs": []
    },
    {
      "cell_type": "code",
      "source": [
        "# Check Unique Values for each variable.\n",
        "Categorical_variables=[\n",
        "'NAME_CONTRACT_TYPE',\n",
        "'CODE_GENDER',\n",
        "'FLAG_OWN_CAR',\n",
        "'FLAG_OWN_REALTY',\n",
        "'NAME_TYPE_SUITE',\n",
        "'NAME_INCOME_TYPE',\n",
        "'NAME_EDUCATION_TYPE',\n",
        "'NAME_FAMILY_STATUS',\n",
        "'CNT_CHILDREN' ,\n",
        "'NAME_HOUSING_TYPE',\n",
        "'OCCUPATION_TYPE',\n",
        "'WEEKDAY_APPR_PROCESS_START',\n",
        "'REG_REGION_NOT_LIVE_REGION',\n",
        "'REG_REGION_NOT_WORK_REGION',\n",
        "'LIVE_REGION_NOT_WORK_REGION',\n",
        "'REG_CITY_NOT_LIVE_CITY',\n",
        "'REG_CITY_NOT_WORK_CITY',\n",
        "'LIVE_CITY_NOT_WORK_CITY',\n",
        "'ORGANIZATION_TYPE',\n",
        "'EMERGENCYSTATE_MODE']"
      ],
      "metadata": {
        "id": "jFrU1Uf2Exor"
      },
      "execution_count": null,
      "outputs": []
    },
    {
      "cell_type": "markdown",
      "source": [
        "**Univeriate Analysis for cetegrorical Variable**"
      ],
      "metadata": {
        "id": "rhQ_1YmyGEUd"
      }
    },
    {
      "cell_type": "code",
      "source": [
        "# Number ofcash loans & Revolving loans in the dataset\n",
        "plt.figure(figsize=(5,5))\n",
        "df.NAME_CONTRACT_TYPE .value_counts().plot(kind='pie',autopct='%1.2f%%')\n",
        "plt.ylabel('')\n",
        "plt.title('cash loans & Revolving loans')\n"
      ],
      "metadata": {
        "id": "2wwYA0TPLI5D"
      },
      "execution_count": null,
      "outputs": []
    },
    {
      "cell_type": "code",
      "source": [
        "sns.countplot(x=\"FLAG_OWN_CAR\", hue=\"TARGET\", data=df_app)\n",
        "plt.yscale('log')\n",
        "plt.title('Count of Car Owners\\n', fontdict={'fontsize': 15, 'fontweight': 7, 'color': 'Blue'})\n",
        "plt.show()\n"
      ],
      "metadata": {
        "id": "BvbBSjxPK0Zs"
      },
      "execution_count": null,
      "outputs": []
    },
    {
      "cell_type": "code",
      "source": [
        "sns.countplot(x=\"CODE_GENDER\", hue=\"TARGET\", data=df_app)\n",
        "plt.yscale('log')\n",
        "plt.xticks(rotation=30)\n",
        "plt.title('Gender count\\n',fontdict={'fontsize': 15, 'fontweight' : 7, 'color' : 'Blue'})\n",
        "plt.show()\n"
      ],
      "metadata": {
        "id": "F7UkZrjWKvqU"
      },
      "execution_count": null,
      "outputs": []
    },
    {
      "cell_type": "markdown",
      "source": [
        "It can be seen that both number of males and females is same for having payment difficulties\n",
        "\n",
        "It can also be seen that number of females is more than males for not having payment dificulties"
      ],
      "metadata": {
        "id": "CnOFnDwXKfft"
      }
    },
    {
      "cell_type": "code",
      "source": [
        "sns.countplot(x=\"Income_range\", hue=\"TARGET\", data=df_app)\n",
        "plt.yscale('log')\n",
        "plt.ylabel(\"Count in log\", fontdict={'fontsize': 12, 'fontweight' : 5, 'color' : 'Brown'})\n",
        "plt.xlabel(\"Income Range Values\", fontdict={'fontsize': 12, 'fontweight' : 5, 'color' : 'Brown'})\n",
        "plt.xticks(rotation=90)\n",
        "plt.title('INCOME RANGE\\n',fontdict={'fontsize': 15, 'fontweight' : 7, 'color' : 'Blue'})\n",
        "plt.show()\n"
      ],
      "metadata": {
        "id": "pyKcpAcyKGsg"
      },
      "execution_count": null,
      "outputs": []
    },
    {
      "cell_type": "markdown",
      "source": [
        "From the above plot we can infer that the maximum number of clients without payment difficulties lie in the income range 1.2lac-1.5lac and immediate next income range is 2lac-.25 lac\n",
        "\n",
        "Most clients wiht payment difficulties lie in the income range is 4.5lac-4.75lac"
      ],
      "metadata": {
        "id": "axIgHRSJJ145"
      }
    },
    {
      "cell_type": "code",
      "source": [
        "\n",
        "for i in Categorical_variables:\n",
        "    plt.figure(figsize=(20, 10))\n",
        "    plt.subplot(1, 2, 1)\n",
        "    df[df['TARGET'] == 0][i].value_counts(normalize=True).plot.bar()\n",
        "    plt.title(i + ' (target = 0)')\n",
        "    plt.subplot(1, 2, 2)\n",
        "    df[df['TARGET'] == 1][i].value_counts(normalize=True).plot.bar()\n",
        "    plt.title(i + ' (target = 1)')\n",
        "    plt.show()"
      ],
      "metadata": {
        "id": "HXi6pPYwIS6l"
      },
      "execution_count": null,
      "outputs": []
    },
    {
      "cell_type": "markdown",
      "source": [
        "**Count of Organization Types**"
      ],
      "metadata": {
        "id": "yB0iIHgAMiT2"
      }
    },
    {
      "cell_type": "code",
      "source": [
        "sns.set(style='darkgrid')\n",
        "plt.figure(figsize=[15, 12])\n",
        "\n",
        "df['ORGANIZATION_TYPE'].value_counts().plot.barh(width=1)\n",
        "plt.title('Count of Organization Types')\n",
        "plt.xlabel('Count')\n",
        "plt.ylabel('Organization Type')\n",
        "plt.show()\n"
      ],
      "metadata": {
        "id": "Wdwkc4TZLX47"
      },
      "execution_count": null,
      "outputs": []
    },
    {
      "cell_type": "markdown",
      "source": [
        "**bivariate analysis**\n"
      ],
      "metadata": {
        "id": "TQJEyG_6Lg3e"
      }
    },
    {
      "cell_type": "code",
      "source": [
        "# Bivariate analysis - Box plot\n",
        "plt.figure(figsize=(5, 6))\n",
        "sns.boxplot(x='NAME_CONTRACT_TYPE', y='AMT_ANNUITY', data=df)\n",
        "plt.title('Bivariate Analysis: AMT_ANNUITY vs NAME_CONTRACT_TYPE')\n",
        "plt.xlabel('Contract Type')\n",
        "plt.ylabel('AMT_ANNUITY')\n",
        "plt.show()\n"
      ],
      "metadata": {
        "id": "tDpUSrfGLj7_"
      },
      "execution_count": null,
      "outputs": []
    },
    {
      "cell_type": "code",
      "source": [
        "sns.scatterplot(x=df['AMT_ANNUITY'],\n",
        "                y=df['AMT_GOODS_PRICE'],\n",
        "                data=df,\n",
        "                hue='TARGET')\n",
        "\n",
        "plt.title('Scatter Plot: AMT_ANNUITY vs AMT_GOODS_PRICE')\n",
        "plt.xlabel('AMT_ANNUITY')\n",
        "plt.ylabel('AMT_GOODS_PRICE')\n",
        "\n",
        "plt.show()"
      ],
      "metadata": {
        "id": "Ujs2zaqcLtE4"
      },
      "execution_count": null,
      "outputs": []
    },
    {
      "cell_type": "code",
      "source": [
        "#Checking for Income amount of the customers based on their Family type\n",
        "#and plotted according their Education status\n",
        "plt.figure(figsize=(12, 8))\n",
        "sns.boxplot(data=df_app, x=\"NAME_FAMILY_STATUS\", y=\"AMT_INCOME_TOTAL\", hue=\"NAME_EDUCATION_TYPE\")\n",
        "plt.xticks(rotation=-30)\n",
        "plt.xlabel(\"Family Status\", fontdict={'fontsize': 12, 'fontweight': 5, 'color': 'Brown'})\n",
        "plt.ylabel(\"Total Income Amount\", fontdict={'fontsize': 12, 'fontweight': 5, 'color': 'Brown'})\n",
        "plt.yscale('log')\n",
        "plt.title('Total Income Amount vs Family Status\\n', fontdict={'fontsize': 18, 'fontweight': 10, 'color': 'Blue'})\n",
        "plt.show()\n"
      ],
      "metadata": {
        "id": "eeesCi7ELZP6"
      },
      "execution_count": null,
      "outputs": []
    },
    {
      "cell_type": "markdown",
      "source": [
        "Family status of 'civil marriage', 'marriage' and 'separated' of Higher education are having higher number of income than others.\n",
        "\n",
        "Also, higher education and secondary/second special education statuses with family status of 'marriage', 'single or not' and 'civil marriage' are having more outliers. Married for Higher education is having most of the incomes in the lower bound."
      ],
      "metadata": {
        "id": "OBqwcxYELr0p"
      }
    },
    {
      "cell_type": "code",
      "source": [
        "#Checking for Credit amount provided to the customers based on their education\n",
        "#and plotted according the Contract types of loans they are applying for.\n",
        "plt.figure(figsize=(12, 8))\n",
        "sns.boxplot(data=df_app, x=\"NAME_EDUCATION_TYPE\", y=\"AMT_CREDIT\", hue=\"NAME_CONTRACT_TYPE\")\n",
        "plt.xticks(rotation=-30)\n",
        "plt.xlabel(\"Education Status\", fontdict={'fontsize': 12, 'fontweight': 5, 'color': 'Brown'})\n",
        "plt.ylabel(\"Credit Amount\", fontdict={'fontsize': 12, 'fontweight': 5, 'color': 'Brown'})\n",
        "plt.yscale('log')\n",
        "plt.title('Credit Amount vs Education Status\\n', fontdict={'fontsize': 18, 'fontweight': 10, 'color': 'Blue'})\n",
        "plt.show()\n"
      ],
      "metadata": {
        "id": "b0Pc5EFQL51U"
      },
      "execution_count": null,
      "outputs": []
    },
    {
      "cell_type": "markdown",
      "source": [
        "Education status of higher education and secondary/secondary special have most clients for contract type cash loans\n",
        "\n",
        "Most number of clients applying for revolving loans are in education status Acadamic degree and higher education"
      ],
      "metadata": {
        "id": "4v_rubhyL4TI"
      }
    },
    {
      "cell_type": "markdown",
      "source": [
        "**Top 10 OCCUPATION_TYPE in the dataset**"
      ],
      "metadata": {
        "id": "6_VoihzGMF5b"
      }
    },
    {
      "cell_type": "code",
      "source": [
        "# Top 10 OCCUPATION_TYPE in the dataset\n",
        "plt.figure(figsize=(10,5))\n",
        "df[~(df['OCCUPATION_TYPE']=='Unknown')].OCCUPATION_TYPE.value_counts().nlargest(10).plot(kind='barh')\n",
        "plt.title('Top 10 OCCUPATION_TYPE Client with payment difficulties and all other cases')"
      ],
      "metadata": {
        "id": "UwD1GuzZLyqg"
      },
      "execution_count": null,
      "outputs": []
    },
    {
      "cell_type": "markdown",
      "source": [
        "**Correlation Heatmap of Numerical Columns**"
      ],
      "metadata": {
        "id": "IX-KBZj-Mog1"
      }
    },
    {
      "cell_type": "code",
      "source": [
        "#correlation analysis for the entire target data\n",
        "numerical_columns = [\n",
        "    'AMT_INCOME_TOTAL', 'AMT_CREDIT', 'AMT_ANNUITY', 'AMT_GOODS_PRICE',\n",
        "    'DAYS_BIRTH', 'DAYS_EMPLOYED', 'DAYS_LAST_PHONE_CHANGE'\n",
        "]\n",
        "# Calculate the correlation matrix\n",
        "correlation_matrix = df[numerical_columns].corr()\n",
        "\n",
        "# Plot the correlation heatmap\n",
        "plt.figure(figsize=(10, 8))\n",
        "sns.heatmap(correlation_matrix, annot=True, cmap='coolwarm', vmin=-1, vmax=1)\n",
        "plt.title('Correlation Heatmap of Numerical Columns')\n",
        "\n",
        "plt.show()"
      ],
      "metadata": {
        "id": "fF71INOKJPKc"
      },
      "execution_count": null,
      "outputs": []
    },
    {
      "cell_type": "markdown",
      "source": [
        "#                                         **Previous_application Analysis:**  "
      ],
      "metadata": {
        "id": "IFXIGC6JL3ho"
      }
    },
    {
      "cell_type": "code",
      "source": [
        "df_pre=pd.read_csv('/content/previous_application.csv')"
      ],
      "metadata": {
        "id": "zQiATwNnMHkk"
      },
      "execution_count": null,
      "outputs": []
    },
    {
      "cell_type": "code",
      "source": [
        "df_pre.head()"
      ],
      "metadata": {
        "id": "-bqlqa8iMsfN"
      },
      "execution_count": null,
      "outputs": []
    },
    {
      "cell_type": "code",
      "source": [
        "df_pre.shape"
      ],
      "metadata": {
        "id": "ZWiR_JrUMwr-"
      },
      "execution_count": null,
      "outputs": []
    },
    {
      "cell_type": "code",
      "source": [
        "df_pre.info()"
      ],
      "metadata": {
        "id": "qJ-OSWe0wF4d"
      },
      "execution_count": null,
      "outputs": []
    },
    {
      "cell_type": "code",
      "source": [
        "df_pre.describe()"
      ],
      "metadata": {
        "id": "1fZuwA_ewLF9"
      },
      "execution_count": null,
      "outputs": []
    },
    {
      "cell_type": "code",
      "source": [
        "df_pre.isnull().sum()/len(df_pre)*100"
      ],
      "metadata": {
        "id": "UkOmzDuPwPuX"
      },
      "execution_count": null,
      "outputs": []
    },
    {
      "cell_type": "code",
      "source": [
        "df_pre.info()"
      ],
      "metadata": {
        "id": "2KHNui0rxPhM"
      },
      "execution_count": null,
      "outputs": []
    },
    {
      "cell_type": "code",
      "source": [
        "#Renaming the columns as convention\n",
        "pre_df =df_pre.rename({'NAME_CONTRACT_TYPE_x' : 'NAME_CONTRACT_TYPE','AMT_CREDIT_x':'AMT_CREDIT','AMT_ANNUITY_x':'AMT_ANNUITY',\n",
        "                         'WEEKDAY_APPR_PROCESS_START_x' : 'WEEKDAY_APPR_PROCESS_START','AMT_GOODS_PRICE_x':'AMT_GOODS_PRICE',\n",
        "                         'HOUR_APPR_PROCESS_START_x':'HOUR_APPR_PROCESS_START','NAME_CONTRACT_TYPE_y':'NAME_CONTRACT_TYPE_PREV',\n",
        "                         'AMT_CREDIT_y':'AMT_CREDIT_PREV','AMT_ANNUITY_y':'AMT_ANNUITY_PREV','AMT_GOODS_PRICE_y':'AMT_GOODS_PRICE_PREV',\n",
        "                         'WEEKDAY_APPR_PROCESS_START_y':'WEEKDAY_APPR_PROCESS_START_PREV',\n",
        "                         'HOUR_APPR_PROCESS_START_y':'HOUR_APPR_PROCESS_START_PREV'}, axis=1)"
      ],
      "metadata": {
        "id": "yVARtWOdx0m2"
      },
      "execution_count": null,
      "outputs": []
    },
    {
      "cell_type": "code",
      "source": [
        "pre_df.head()"
      ],
      "metadata": {
        "id": "zERWHvCByzTY"
      },
      "execution_count": null,
      "outputs": []
    },
    {
      "cell_type": "code",
      "source": [
        "pre_df.drop(['SK_ID_CURR','WEEKDAY_APPR_PROCESS_START', 'HOUR_APPR_PROCESS_START',\n",
        "               'FLAG_LAST_APPL_PER_CONTRACT','NFLAG_LAST_APPL_IN_DAY'], axis=1, inplace=True)\n"
      ],
      "metadata": {
        "id": "7zb7zqKbysRE"
      },
      "execution_count": null,
      "outputs": []
    },
    {
      "cell_type": "code",
      "source": [
        "pre_df.info()"
      ],
      "metadata": {
        "id": "uAAiw5GEzPrS"
      },
      "execution_count": null,
      "outputs": []
    },
    {
      "cell_type": "code",
      "source": [
        "#Checking for null value percentage\n",
        "pre_df.isnull().sum()/len(pre_df)*100\n"
      ],
      "metadata": {
        "id": "KSaudlh8zYrM"
      },
      "execution_count": null,
      "outputs": []
    },
    {
      "cell_type": "code",
      "source": [
        "# Checking for duplicate records\n",
        "pre_df.duplicated().value_counts()"
      ],
      "metadata": {
        "id": "MwCm6X-QNmPX"
      },
      "execution_count": null,
      "outputs": []
    },
    {
      "cell_type": "code",
      "source": [
        "pre_df.columns"
      ],
      "metadata": {
        "id": "yCn86JhLNucP"
      },
      "execution_count": null,
      "outputs": []
    },
    {
      "cell_type": "markdown",
      "source": [
        "SK_ID_PREV: Previous application ID\n",
        "\n",
        "NAME_CONTRACT_TYPE: Type of contract (e.g., cash loan, consumer loan, revolving loan)\n",
        "\n",
        "AMT_ANNUITY: Annuity of the previous application\n",
        "\n",
        "AMT_APPLICATION: Requested amount of the previous application\n",
        "\n",
        "AMT_CREDIT: Granted amount of the previous application\n",
        "\n",
        "AMT_DOWN_PAYMENT: Down payment amount of the previous application\n",
        "\n",
        "AMT_GOODS_PRICE: Price of the goods for which the previous application was applied\n",
        "\n",
        "WEEKDAY_APPR_PROCESS_START: Weekday on which the previous application was started\n",
        "\n",
        "HOUR_APPR_PROCESS_START: Hour of the day when the previous application was started\n",
        "\n",
        "FLAG_LAST_APPL_PER_CONTRACT: Flag indicating if the previous application was the last application for the contract\n",
        "\n",
        "NFLAG_LAST_APPL_IN_DAY: Flag indicating if the previous application was the last application received on the same day\n",
        "\n",
        "RATE_DOWN_PAYMENT: Down payment rate of the previous application\n",
        "\n",
        "RATE_INTEREST_PRIMARY: Interest rate normalized on previous application\n",
        "\n",
        "RATE_INTEREST_PRIVILEGED: Interest rate normalized on previous application, taking into account the specific interest rate of the previous application\n",
        "\n",
        "NAME_CASH_LOAN_PURPOSE: Purpose of the cash loan\n",
        "\n",
        "NAME_CONTRACT_STATUS: Contract status of the previous application\n",
        "\n",
        "DAYS_DECISION: Number of days from the previous application at which the decision was made\n",
        "\n",
        "NAME_PAYMENT_TYPE: Payment method that the borrower chose to pay for the previous application\n",
        "\n",
        "CODE_REJECT_REASON: Reason why the previous application was rejected\n",
        "\n",
        "NAME_TYPE_SUITE: Who accompanied the borrower when applying for the previous application\n",
        "\n",
        "NAME_CLIENT_TYPE: Type of client who applied for the previous application\n",
        "\n",
        "NAME_GOODS_CATEGORY: Category of the goods for which the previous application was applied\n",
        "\n",
        "NAME_PORTFOLIO: Portfolio name of the previous application\n",
        "\n",
        "NAME_PRODUCT_TYPE: Product type of the previous application\n",
        "\n",
        "CHANNEL_TYPE: Channel through which the previous application was applied\n",
        "\n",
        "SELLERPLACE_AREA: Selling area of the seller's place of the previous application\n",
        "\n",
        "NAME_SELLER_INDUSTRY: Industry of the seller's place of the previous application\n",
        "\n",
        "CNT_PAYMENT: Term of previous credit at application in months\n",
        "\n",
        "NAME_YIELD_GROUP: Grouped interest rate into small, medium, high, and very high of the previous application\n",
        "\n",
        "PRODUCT_COMBINATION: Detailed product combination of the previous application\n",
        "\n",
        "DAYS_FIRST_DRAWING: Number of days before the previous application when the first disbursement of the previous loan was made\n",
        "\n",
        "DAYS_FIRST_DUE: Number of days before the previous application when the first due of the previous loan was expected\n",
        "\n",
        "DAYS_LAST_DUE_1ST_VERSION: Number of days before the previous application when the first due of the previous loan was expected in its first version\n",
        "\n",
        "DAYS_LAST_DUE: Number of days before the previous application when the last due date of the previous loan was expected\n",
        "\n",
        "DAYS_TERMINATION: Number of days before the previous application when the previous loan was terminated"
      ],
      "metadata": {
        "id": "455BwyWAOkCp"
      }
    },
    {
      "cell_type": "markdown",
      "source": [
        "**Data pre-processing:**\n",
        "\n",
        "* Dealing with outliers\n",
        "\n",
        "* Handling Missing Values\n",
        "\n",
        "* Feature Scaling"
      ],
      "metadata": {
        "id": "XVG7TUgPPQ8R"
      }
    },
    {
      "cell_type": "code",
      "source": [
        "#Missing Values/Null Values\n",
        "pre_df.dtypes"
      ],
      "metadata": {
        "id": "fcIwqs1-PHG_"
      },
      "execution_count": null,
      "outputs": []
    },
    {
      "cell_type": "markdown",
      "source": [
        "**Handel missing value**\n",
        "\n",
        "**sorted the variable which contains more than 40% missing value**"
      ],
      "metadata": {
        "id": "T7NVb7q3PuZV"
      }
    },
    {
      "cell_type": "code",
      "source": [
        "missing_percent = (pre_df.isnull().sum() * 100 / len(pre_df))\n",
        ".sort_values(ascending=False).round(3)\n",
        "print(missing_percent)"
      ],
      "metadata": {
        "id": "fnT0FGSbPtOt"
      },
      "execution_count": null,
      "outputs": []
    },
    {
      "cell_type": "code",
      "source": [
        "missing_percent = (pre_df.isnull().sum() * 100 / len(pre_df)).sort_values(ascending=False)\n",
        "missing_percent = missing_percent[missing_percent > 40]\n",
        "print(missing_percent)"
      ],
      "metadata": {
        "id": "yrCeZOSiP-HD"
      },
      "execution_count": null,
      "outputs": []
    },
    {
      "cell_type": "code",
      "source": [
        "# Get the columns to drop (more than 40% missing values)\n",
        "columns_to_drop = missing_percent[missing_percent > 40].index\n",
        "print(columns_to_drop)"
      ],
      "metadata": {
        "id": "-sCa_T82QgDa"
      },
      "execution_count": null,
      "outputs": []
    },
    {
      "cell_type": "markdown",
      "source": [
        "**Dropping the unnecessary columns from the data fame as they\n",
        "are not important:**"
      ],
      "metadata": {
        "id": "g9E06shgVsz3"
      }
    },
    {
      "cell_type": "code",
      "source": [
        "# Drop the columns with more than 40% missing values\n",
        "missing_percent= df_pre.drop(columns=columns_to_drop,inplace=True)\n",
        "print('dropped from the df_previous_application')\n"
      ],
      "metadata": {
        "id": "OuWGp0-SV3Df"
      },
      "execution_count": null,
      "outputs": []
    },
    {
      "cell_type": "code",
      "source": [
        "df_pre.shape"
      ],
      "metadata": {
        "id": "n6d4r2i44rS-"
      },
      "execution_count": null,
      "outputs": []
    },
    {
      "cell_type": "code",
      "source": [
        "df_pre.columns"
      ],
      "metadata": {
        "id": "5A7mPZfKUwGN"
      },
      "execution_count": null,
      "outputs": []
    },
    {
      "cell_type": "markdown",
      "source": [
        "**Finding the count of various values for the variable:**"
      ],
      "metadata": {
        "id": "PwStI7e2UVZf"
      }
    },
    {
      "cell_type": "code",
      "source": [
        "# target value type\n",
        "tar_dtype = [\n",
        "'AMT_ANNUITY' ,\n",
        "'AMT_CREDIT',\n",
        "'AMT_GOODS_PRICE',\n",
        "'CNT_PAYMENT'\n",
        "]"
      ],
      "metadata": {
        "id": "Tkn3dUy984Zz"
      },
      "execution_count": null,
      "outputs": []
    },
    {
      "cell_type": "code",
      "source": [
        "df_pre[tar_dtype].dtypes"
      ],
      "metadata": {
        "id": "cru5V_0e9Tzx"
      },
      "execution_count": null,
      "outputs": []
    },
    {
      "cell_type": "markdown",
      "source": [
        "**understanding best imputation technique for with between 20%-40% of mising value The target value for this analysis will be:**\n",
        "\n",
        "AMT_ANNUITY\n",
        "\n",
        "CNT_PAYMENT\n",
        "\n",
        "'AMT_CREDIT',\n",
        "\n",
        "'AMT_GOODS_PRICE'\n"
      ],
      "metadata": {
        "id": "GTg55R3f8GAz"
      }
    },
    {
      "cell_type": "markdown",
      "source": [
        "**outlier analysis**\n",
        "\n",
        "**IQR METHOD**"
      ],
      "metadata": {
        "id": "66-WrtWiFq3a"
      }
    },
    {
      "cell_type": "markdown",
      "source": [
        "**Identifying imputation technique for AMT_ANNUITY**"
      ],
      "metadata": {
        "id": "Hl5ZzUBm-fDu"
      }
    },
    {
      "cell_type": "code",
      "source": [
        "sns.boxplot(df_pre['AMT_ANNUITY'])"
      ],
      "metadata": {
        "id": "-6ApXkk_-evm"
      },
      "execution_count": null,
      "outputs": []
    },
    {
      "cell_type": "code",
      "source": [
        "df_pre['AMT_ANNUITY'].value_counts()"
      ],
      "metadata": {
        "id": "XyJmEFHC-0zT"
      },
      "execution_count": null,
      "outputs": []
    },
    {
      "cell_type": "code",
      "source": [
        "from matplotlib.colors import Normalize\n",
        "#convert into percentage of this records\n",
        "df_pre['AMT_ANNUITY'].value_counts(normalize=True)*100"
      ],
      "metadata": {
        "id": "xwazd26k-5JB"
      },
      "execution_count": null,
      "outputs": []
    },
    {
      "cell_type": "code",
      "source": [
        "#checking statistics of the column\n",
        "df_pre['AMT_ANNUITY'].describe()"
      ],
      "metadata": {
        "id": "2ueJrDwY_CRi"
      },
      "execution_count": null,
      "outputs": []
    },
    {
      "cell_type": "code",
      "source": [
        "#maximum value for boxplot\n",
        "# Calculate the maximum value for the upper whisker of the box plot\n",
        "Q3 = df_pre['AMT_ANNUITY'].quantile(0.75)\n",
        "IQR = 1.5 * (Q3 - df_pre['AMT_ANNUITY'].quantile(0.25))\n",
        "upper_limit = Q3 + IQR\n",
        "print(upper_limit)"
      ],
      "metadata": {
        "id": "TD4mXc8YD-9H"
      },
      "execution_count": null,
      "outputs": []
    },
    {
      "cell_type": "code",
      "source": [
        "# Calculate the percentage of values above the upper limit\n",
        "percentage_above_limit = round(100.0 * len(df_pre[df_pre['AMT_ANNUITY'] > upper_limit]) / len(df_pre), 2)\n",
        "\n",
        "# Print the result\n",
        "print(\"Percentage of values above the upper limit:\", percentage_above_limit)"
      ],
      "metadata": {
        "id": "UKd6IKnvFhTM"
      },
      "execution_count": null,
      "outputs": []
    },
    {
      "cell_type": "code",
      "source": [
        "#Identifying imputation technique for\n",
        "sns.boxplot(df_pre['CNT_PAYMENT'])"
      ],
      "metadata": {
        "id": "MBXSBkQd_J3Y"
      },
      "execution_count": null,
      "outputs": []
    },
    {
      "cell_type": "code",
      "source": [
        "df_pre['CNT_PAYMENT'].value_counts()"
      ],
      "metadata": {
        "id": "AgU5imFx_Jl_"
      },
      "execution_count": null,
      "outputs": []
    },
    {
      "cell_type": "code",
      "source": [
        "from matplotlib.colors import Normalize\n",
        "#convert into percentage of this records\n",
        "df_pre['CNT_PAYMENT'].value_counts(normalize=True)*100"
      ],
      "metadata": {
        "id": "NEublZtQ_SGW"
      },
      "execution_count": null,
      "outputs": []
    },
    {
      "cell_type": "code",
      "source": [
        "#checking statistics of the column\n",
        "df_pre['CNT_PAYMENT'].describe()"
      ],
      "metadata": {
        "id": "1Rrgmc3i_Trx"
      },
      "execution_count": null,
      "outputs": []
    },
    {
      "cell_type": "code",
      "source": [
        "#maximum value for boxplot\n",
        "# Calculate the maximum value for the upper whisker of the box plot\n",
        "Q3 = df_pre['CNT_PAYMENT'].quantile(0.75)\n",
        "IQR = 1.5 * (Q3 - df_pre['CNT_PAYMENT'].quantile(0.25))\n",
        "upper_limit = Q3 + IQR\n",
        "print(upper_limit)"
      ],
      "metadata": {
        "id": "UEC5cK4iC07C"
      },
      "execution_count": null,
      "outputs": []
    },
    {
      "cell_type": "code",
      "source": [
        "# Calculate the percentage of values above the upper limit\n",
        "percentage_above_limit = round(100.0 * len(df_pre[df_pre['CNT_PAYMENT'] > upper_limit]) / len(df_pre), 2)\n",
        "\n",
        "# Print the result\n",
        "print(\"Percentage of values above the upper limit:\", percentage_above_limit)"
      ],
      "metadata": {
        "id": "B2AmoOmPDD2-"
      },
      "execution_count": null,
      "outputs": []
    },
    {
      "cell_type": "code",
      "source": [
        "#Identifying imputation technique for\n",
        "sns.boxplot(df_pre['AMT_CREDIT'])"
      ],
      "metadata": {
        "id": "JtuLMJth_WDa"
      },
      "execution_count": null,
      "outputs": []
    },
    {
      "cell_type": "code",
      "source": [
        "df_pre['AMT_CREDIT'].value_counts()"
      ],
      "metadata": {
        "id": "_stNKq6d_X5U"
      },
      "execution_count": null,
      "outputs": []
    },
    {
      "cell_type": "code",
      "source": [
        "from matplotlib.colors import Normalize\n",
        "#convert into percentage of this records\n",
        "df_pre['AMT_CREDIT'].value_counts(normalize=True)*100"
      ],
      "metadata": {
        "id": "Au4JDiUe_ZqD"
      },
      "execution_count": null,
      "outputs": []
    },
    {
      "cell_type": "code",
      "source": [
        "#checking statistics of the column\n",
        "df_pre['AMT_CREDIT'].describe()"
      ],
      "metadata": {
        "id": "98iZqMT-_bKL"
      },
      "execution_count": null,
      "outputs": []
    },
    {
      "cell_type": "code",
      "source": [
        "#maximum value for boxplot\n",
        "# Calculate the maximum value for the upper whisker of the box plot\n",
        "Q3 = df_pre['AMT_CREDIT'].quantile(0.75)\n",
        "IQR = 1.5 * (Q3 - df_pre['AMT_CREDIT'].quantile(0.25))\n",
        "upper_limit = Q3 + IQR\n",
        "print(upper_limit)"
      ],
      "metadata": {
        "id": "VT2PNn4oECZK"
      },
      "execution_count": null,
      "outputs": []
    },
    {
      "cell_type": "code",
      "source": [
        "# Calculate the percentage of values above the upper limit\n",
        "percentage_above_limit = round(100.0 * len(df_pre[df_pre['AMT_CREDIT'] > upper_limit]) / len(df_pre), 2)\n",
        "\n",
        "# Print the result\n",
        "print(\"Percentage of values above the upper limit:\", percentage_above_limit)"
      ],
      "metadata": {
        "id": "Hp58342SExhw"
      },
      "execution_count": null,
      "outputs": []
    },
    {
      "cell_type": "markdown",
      "source": [
        " analyzing is heavily skewed or concentrated within a certain range, with very few or no values above the upper limit. In such cases, it is expected that the percentage of values exceeding the upper limit would be close to or equal to 10.75"
      ],
      "metadata": {
        "id": "aGY-0pPC7bJY"
      }
    },
    {
      "cell_type": "code",
      "source": [
        "#Identifying imputation technique for\n",
        "sns.boxplot(df_pre['AMT_GOODS_PRICE'])"
      ],
      "metadata": {
        "id": "JeGtoVeV_t3b"
      },
      "execution_count": null,
      "outputs": []
    },
    {
      "cell_type": "code",
      "source": [
        "df_pre['AMT_GOODS_PRICE'].value_counts()"
      ],
      "metadata": {
        "id": "yRy51dB-_mCY"
      },
      "execution_count": null,
      "outputs": []
    },
    {
      "cell_type": "code",
      "source": [
        "from matplotlib.colors import Normalize\n",
        "#convert into percentage of this records\n",
        "df_pre['AMT_GOODS_PRICE'].value_counts(normalize=True)*100"
      ],
      "metadata": {
        "id": "SoO59Fat_oaA"
      },
      "execution_count": null,
      "outputs": []
    },
    {
      "cell_type": "code",
      "source": [
        "#checking statistics of the column\n",
        "df_pre['AMT_GOODS_PRICE'].describe()"
      ],
      "metadata": {
        "id": "zo_zs7sD_qAv"
      },
      "execution_count": null,
      "outputs": []
    },
    {
      "cell_type": "code",
      "source": [
        "#maximum value for boxplot\n",
        "# Calculate the maximum value for the upper whisker of the box plot\n",
        "Q3 = df_pre['AMT_GOODS_PRICE'].quantile(0.75)\n",
        "IQR = 1.5 * (Q3 - df_pre['AMT_GOODS_PRICE'].quantile(0.25))\n",
        "upper_limit = Q3 + IQR\n",
        "print(upper_limit)"
      ],
      "metadata": {
        "id": "N_g9NZmaEEfZ"
      },
      "execution_count": null,
      "outputs": []
    },
    {
      "cell_type": "code",
      "source": [
        "# Calculate the percentage of values above the upper limit\n",
        "percentage_above_limit = round(100.0 * len(df_pre[df_pre['AMT_GOODS_PRICE'] > upper_limit]) / len(df_pre), 2)\n",
        "\n",
        "# Print the result\n",
        "print(\"Percentage of values above the upper limit:\", percentage_above_limit)"
      ],
      "metadata": {
        "id": "YG8-q_YbEqM_"
      },
      "execution_count": null,
      "outputs": []
    },
    {
      "cell_type": "code",
      "source": [
        "numerical_columns = ['AMT_ANNUITY', 'AMT_APPLICATION', 'AMT_CREDIT', 'AMT_GOODS_PRICE',\n",
        "                     'DAYS_DECISION', 'SELLERPLACE_AREA', 'CNT_PAYMENT', 'DAYS_FIRST_DRAWING',\n",
        "                     'DAYS_FIRST_DUE', 'DAYS_LAST_DUE_1ST_VERSION', 'DAYS_LAST_DUE', 'DAYS_TERMINATION']\n",
        "categorical_columns = ['NAME_CONTRACT_TYPE', 'WEEKDAY_APPR_PROCESS_START', 'FLAG_LAST_APPL_PER_CONTRACT', 'NFLAG_LAST_APPL_IN_DAY',\n",
        "                       'NAME_CASH_LOAN_PURPOSE', 'NAME_CONTRACT_STATUS', 'NAME_PAYMENT_TYPE', 'CODE_REJECT_REASON',\n",
        "                       'NAME_CLIENT_TYPE', 'NAME_GOODS_CATEGORY', 'NAME_PORTFOLIO', 'NAME_PRODUCT_TYPE', 'CHANNEL_TYPE',\n",
        "                       'NAME_SELLER_INDUSTRY', 'NAME_YIELD_GROUP', 'PRODUCT_COMBINATION']\n"
      ],
      "metadata": {
        "id": "9TAsMw74aeKN"
      },
      "execution_count": null,
      "outputs": []
    },
    {
      "cell_type": "code",
      "source": [
        "# Plotting numerical columns\n",
        "for column in numerical_columns:\n",
        "    plt.figure(figsize=(10, 5))\n",
        "    plt.subplot(1, 2, 1)\n",
        "    plt.hist(df_pre[column], bins=20)\n",
        "    plt.xlabel(column)\n",
        "    plt.ylabel('Frequency')\n",
        "\n",
        "    plt.subplot(1, 2, 2)\n",
        "    plt.boxplot(df_pre[column])\n",
        "    plt.xlabel(column)\n",
        "\n",
        "    plt.show()\n"
      ],
      "metadata": {
        "id": "EYfggvG3asJx"
      },
      "execution_count": null,
      "outputs": []
    },
    {
      "cell_type": "markdown",
      "source": [
        "**Analysis of Variables:**"
      ],
      "metadata": {
        "id": "JHUXil3GJcrG"
      }
    },
    {
      "cell_type": "markdown",
      "source": [
        "**Univariate Analysis**"
      ],
      "metadata": {
        "id": "o7LXX5UfJj0V"
      }
    },
    {
      "cell_type": "markdown",
      "source": [
        "#Plotting a coutplot to check which Contract types are most with respect to Contract status"
      ],
      "metadata": {
        "id": "CujD0nGn7y-3"
      }
    },
    {
      "cell_type": "code",
      "source": [
        "sns.countplot(x='NAME_CONTRACT_TYPE', hue='NAME_CONTRACT_STATUS', data=df_pre)\n",
        "plt.title('Count of Contract Types W.R.T Contract Status\\n', fontdict={'fontsize': 18, 'fontweight': 10, 'color': 'Blue'})\n",
        "plt.yscale('log')\n",
        "plt.legend(bbox_to_anchor=(1.32, 1))\n",
        "plt.show()\n"
      ],
      "metadata": {
        "id": "3ZlvviS77s7r"
      },
      "execution_count": null,
      "outputs": []
    },
    {
      "cell_type": "markdown",
      "source": [
        "Contract type cash loans are maximum in number where all kinds of contract statuses are more than contract type revolving loans"
      ],
      "metadata": {
        "id": "hQcuHCwe76AF"
      }
    },
    {
      "cell_type": "code",
      "source": [
        "sns.countplot(x='NAME_CONTRACT_TYPE', hue='NAME_PRODUCT_TYPE', data=df_pre)\n",
        "plt.title('Count of Contract Types W.R.T NAME_PRODUCT_TYPE\\n', fontdict={'fontsize': 18, 'fontweight': 10, 'color': 'Blue'})\n",
        "plt.yscale('log')\n",
        "plt.legend(bbox_to_anchor=(1.32, 1))\n",
        "plt.show()"
      ],
      "metadata": {
        "id": "_aWDMR31_kBo"
      },
      "execution_count": null,
      "outputs": []
    },
    {
      "cell_type": "markdown",
      "source": [
        "Most clients with all kinds of NAME_PRODUCT_TYPE apply mostly for cash loans rather than revolving loans"
      ],
      "metadata": {
        "id": "pMTW5VAW_0Jr"
      }
    },
    {
      "cell_type": "code",
      "source": [
        "df_pre.groupby(['NAME_YIELD_GROUP']).sum().plot(\n",
        "    kind='pie', y='AMT_CREDIT', autopct='%1.0f%%')"
      ],
      "metadata": {
        "id": "xQezrwepDecA"
      },
      "execution_count": null,
      "outputs": []
    },
    {
      "cell_type": "code",
      "source": [
        "# Create the histogram\n",
        "sns.histplot(df_pre.NAME_CONTRACT_TYPE)\n",
        "plt.show()"
      ],
      "metadata": {
        "id": "Mr9IMfLD8PD8"
      },
      "execution_count": null,
      "outputs": []
    },
    {
      "cell_type": "code",
      "source": [
        "# Assign a figure size\n",
        "plt.figure(figsize = (10, 5))\n",
        "\n",
        "# Create the box plots\n",
        "sns.boxplot(data = df_pre, x = 'NAME_CONTRACT_TYPE', y = 'AMT_ANNUITY')\n",
        "plt.show()"
      ],
      "metadata": {
        "id": "tEBlLLEzALf2"
      },
      "execution_count": null,
      "outputs": []
    },
    {
      "cell_type": "markdown",
      "source": [
        "**Bivariate Analysis**"
      ],
      "metadata": {
        "id": "-2hajfqAA8dt"
      }
    },
    {
      "cell_type": "code",
      "source": [
        "#Checking for Amount credited previously against Purpose of loan with respect to\n",
        "plt.figure(figsize=(7,7),dpi=100)\n",
        "sns.boxplot(data=pre_df,y='AMT_CREDIT',x= 'NAME_CONTRACT_TYPE',hue='NAME_PAYMENT_TYPE')\n",
        "plt.xticks(rotation=90)\n",
        "plt.yscale('log')\n",
        "plt.ylabel(\"AMT_CREDIT_PREV\", fontdict={'fontsize': 12, 'fontweight' : 5, 'color' : 'Brown'})\n",
        "plt.xlabel(\"count\", fontdict={'fontsize': 12, 'fontweight' : 5, 'color' : 'Brown'})\n",
        "plt.yticks(rotation=30)\n",
        "plt.title('Distribution of Loan Purpose w.r.t TARGET\\n',fontdict={'fontsize': 15, 'fontweight' : 7, 'color' : 'Blue'})\n",
        "plt.show()"
      ],
      "metadata": {
        "id": "hZBJ30sWBB2v"
      },
      "execution_count": null,
      "outputs": []
    },
    {
      "cell_type": "markdown",
      "source": [
        "The credit amount of Loan purposes like 'Buying a home','Buying a land','Buying a new car' and'Building a house' is higher being a 'commercial associate' and even in general irrespective of income type.\n",
        "Income type of state servants haveing no amount of credit applied for purpose of Money for third person or a Hobby.\n",
        "Most of the commercial associates have refuesed to provide purpose of credit"
      ],
      "metadata": {
        "id": "FZwyVOmNB99E"
      }
    },
    {
      "cell_type": "code",
      "source": [
        "#Checking for Amount Credited vs housing type with respect to target\n",
        "plt.figure(figsize=(8,6))\n",
        "sns.barplot(data=df_pre,y='AMT_ANNUITY',hue='NAME_CLIENT_TYPE',x='NAME_SELLER_INDUSTRY')\n",
        "plt.xticks(rotation=90)\n",
        "plt.ylabel(\"AMT_CREDIT_PREV\", fontdict={'fontsize': 12, 'fontweight' : 5, 'color' : 'Brown'})\n",
        "plt.xlabel(\"count\", fontdict={'fontsize': 12, 'fontweight' : 5, 'color' : 'Brown'})\n",
        "plt.yticks(rotation=30)\n",
        "plt.title('Distribution of Amount Credited previously  vs NAME_SELLER_INDUSTRY Type w.r.t TARGET\\n',fontdict={'fontsize': 15, 'fontweight' : 7, 'color' : 'Blue'})\n",
        "plt.show()"
      ],
      "metadata": {
        "id": "L9fEhYg5CVSD"
      },
      "execution_count": null,
      "outputs": []
    },
    {
      "cell_type": "markdown",
      "source": [
        "we can conclude that bank should avoid giving loans to the housing type of office appartment and co-op apartment as they are having difficulties in payment.\n",
        "Bank can focus mostly on housing type with parents or House or appartment or muncipal appartment for successful payments."
      ],
      "metadata": {
        "id": "AiuQLptFDPcl"
      }
    },
    {
      "cell_type": "markdown",
      "source": [
        "**Bivariate**\n",
        "\n",
        "It involves the analysis of two variables, for the purpose of determining the empirical relationship between them. Bivariate analysis can be helpful in testing simple hypotheses of association"
      ],
      "metadata": {
        "id": "MZONXtbE-RWK"
      }
    },
    {
      "cell_type": "code",
      "source": [
        "df_pre.columns"
      ],
      "metadata": {
        "id": "2tjRSrhPEKII"
      },
      "execution_count": null,
      "outputs": []
    },
    {
      "cell_type": "code",
      "source": [
        "plt.figure(figsize=(8,8))\n",
        "correlation = df_pre.corr()\n",
        "sns.heatmap(abs(correlation), annot=True, cmap='coolwarm')"
      ],
      "metadata": {
        "id": "N7OMAM-6Ft_B"
      },
      "execution_count": null,
      "outputs": []
    },
    {
      "cell_type": "markdown",
      "source": [
        "We can observe correlations of different variales plotted in the above graph and draw almost similar inference as we drew in Inference 1.00, with few extra variables"
      ],
      "metadata": {
        "id": "i7iM59apERKM"
      }
    },
    {
      "cell_type": "markdown",
      "source": [
        "**conculsion:**\n",
        "\n",
        "Banks should focus more on contract type ‘Student’ ,’pensioner’ and ‘Businessman’ with housing ‘type other than ‘Co-op apartment’ and 'office appartment' for successful payments.\n",
        "Banks should focus less on income types maternity leave and working as they have most number of unsuccessful payments\n",
        "In loan purpose ‘Repairs’:\n",
        "\n",
        "* Although having higher number of rejection in loan purposes with 'Repairs' we can observe difficulties in payment.\n",
        "* There are few places where loan payment diffuculty is significantly high.\n",
        "* Bank should continue to be cautious while giving loan for this purpose.\n",
        "Bank can focus mostly on housing type with parents , House or apartment and municipal apartment with purpuse of education, buying land, buying a garage, purchase of electronic equipment and some other purposes with target0 significantly more than target1 for successful payments.\n",
        "\n",
        "* Banks can offer more offers to clients who are students and pensioners as they take all offers and are more likely to pay back"
      ],
      "metadata": {
        "id": "vv-cE7xCF736"
      }
    }
  ]
}